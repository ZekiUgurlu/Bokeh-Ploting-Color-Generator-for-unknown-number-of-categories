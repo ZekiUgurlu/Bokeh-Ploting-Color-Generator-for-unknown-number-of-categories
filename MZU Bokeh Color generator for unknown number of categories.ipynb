{
 "cells": [
  {
   "cell_type": "code",
   "execution_count": 1,
   "metadata": {},
   "outputs": [
    {
     "data": {
      "text/plain": [
       "['#1f77b4', '#ff7f0e', '#2ca02c']"
      ]
     },
     "execution_count": 1,
     "metadata": {},
     "output_type": "execute_result"
    }
   ],
   "source": [
    "# Bokeh Color Generator for unknown number of categories\n",
    "from bokeh.palettes import Category10\n",
    "# an example of category\n",
    "years = [\"2015\", \"2016\", \"2017\"]\n",
    "pallet_dict = Category10\n",
    "\n",
    "colors = pallet_dict.get(len(years))\n",
    "colors"
   ]
  },
  {
   "cell_type": "code",
   "execution_count": 2,
   "metadata": {},
   "outputs": [
    {
     "data": {
      "text/plain": [
       "['#1f77b4', '#ff7f0e', '#2ca02c', '#d62728']"
      ]
     },
     "execution_count": 2,
     "metadata": {},
     "output_type": "execute_result"
    }
   ],
   "source": [
    "# Another excample\n",
    "from bokeh.palettes import Category10\n",
    "\n",
    "cars = [\"SUV\", \"SEDAN\", \"SPORTS\", \"TRACKS\"]\n",
    "pallet_dict = Category10\n",
    "\n",
    "colors = pallet_dict.get(len(cars))\n",
    "colors"
   ]
  },
  {
   "cell_type": "code",
   "execution_count": null,
   "metadata": {},
   "outputs": [],
   "source": []
  }
 ],
 "metadata": {
  "kernelspec": {
   "display_name": "Python 3",
   "language": "python",
   "name": "python3"
  },
  "language_info": {
   "codemirror_mode": {
    "name": "ipython",
    "version": 3
   },
   "file_extension": ".py",
   "mimetype": "text/x-python",
   "name": "python",
   "nbconvert_exporter": "python",
   "pygments_lexer": "ipython3",
   "version": "3.7.0"
  },
  "toc": {
   "base_numbering": 1,
   "nav_menu": {},
   "number_sections": true,
   "sideBar": true,
   "skip_h1_title": false,
   "title_cell": "Table of Contents",
   "title_sidebar": "Contents",
   "toc_cell": false,
   "toc_position": {},
   "toc_section_display": true,
   "toc_window_display": false
  }
 },
 "nbformat": 4,
 "nbformat_minor": 2
}
